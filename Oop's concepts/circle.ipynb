{
 "cells": [
  {
   "cell_type": "code",
   "execution_count": 3,
   "metadata": {},
   "outputs": [
    {
     "ename": "NameError",
     "evalue": "name 'coords' is not defined",
     "output_type": "error",
     "traceback": [
      "\u001b[1;31m---------------------------------------------------------------------------\u001b[0m",
      "\u001b[1;31mNameError\u001b[0m                                 Traceback (most recent call last)",
      "\u001b[1;32mc:\\Users\\MY PC\\Desktop\\pyinternpe\\Oop's concepts\\circle.ipynb Cell 1\u001b[0m in \u001b[0;36m<cell line: 6>\u001b[1;34m()\u001b[0m\n\u001b[0;32m      <a href='vscode-notebook-cell:/c%3A/Users/MY%20PC/Desktop/pyinternpe/Oop%27s%20concepts/circle.ipynb#W0sZmlsZQ%3D%3D?line=1'>2</a>\u001b[0m   x \u001b[39m=\u001b[39m \u001b[39m0\u001b[39m\n\u001b[0;32m      <a href='vscode-notebook-cell:/c%3A/Users/MY%20PC/Desktop/pyinternpe/Oop%27s%20concepts/circle.ipynb#W0sZmlsZQ%3D%3D?line=2'>3</a>\u001b[0m   y \u001b[39m=\u001b[39m \u001b[39m0\u001b[39m\n\u001b[1;32m----> <a href='vscode-notebook-cell:/c%3A/Users/MY%20PC/Desktop/pyinternpe/Oop%27s%20concepts/circle.ipynb#W0sZmlsZQ%3D%3D?line=5'>6</a>\u001b[0m \u001b[39mclass\u001b[39;00m \u001b[39mCircle\u001b[39;00m():\n\u001b[0;32m      <a href='vscode-notebook-cell:/c%3A/Users/MY%20PC/Desktop/pyinternpe/Oop%27s%20concepts/circle.ipynb#W0sZmlsZQ%3D%3D?line=6'>7</a>\u001b[0m   radius \u001b[39m=\u001b[39m \u001b[39m0.0\u001b[39m\n\u001b[0;32m      <a href='vscode-notebook-cell:/c%3A/Users/MY%20PC/Desktop/pyinternpe/Oop%27s%20concepts/circle.ipynb#W0sZmlsZQ%3D%3D?line=7'>8</a>\u001b[0m   coords \u001b[39m=\u001b[39m coords()\n",
      "\u001b[1;32mc:\\Users\\MY PC\\Desktop\\pyinternpe\\Oop's concepts\\circle.ipynb Cell 1\u001b[0m in \u001b[0;36mCircle\u001b[1;34m()\u001b[0m\n\u001b[0;32m      <a href='vscode-notebook-cell:/c%3A/Users/MY%20PC/Desktop/pyinternpe/Oop%27s%20concepts/circle.ipynb#W0sZmlsZQ%3D%3D?line=5'>6</a>\u001b[0m \u001b[39mclass\u001b[39;00m \u001b[39mCircle\u001b[39;00m():\n\u001b[0;32m      <a href='vscode-notebook-cell:/c%3A/Users/MY%20PC/Desktop/pyinternpe/Oop%27s%20concepts/circle.ipynb#W0sZmlsZQ%3D%3D?line=6'>7</a>\u001b[0m   radius \u001b[39m=\u001b[39m \u001b[39m0.0\u001b[39m\n\u001b[1;32m----> <a href='vscode-notebook-cell:/c%3A/Users/MY%20PC/Desktop/pyinternpe/Oop%27s%20concepts/circle.ipynb#W0sZmlsZQ%3D%3D?line=7'>8</a>\u001b[0m   coords \u001b[39m=\u001b[39m coords()\n\u001b[0;32m      <a href='vscode-notebook-cell:/c%3A/Users/MY%20PC/Desktop/pyinternpe/Oop%27s%20concepts/circle.ipynb#W0sZmlsZQ%3D%3D?line=8'>9</a>\u001b[0m   color \u001b[39m=\u001b[39m \u001b[39m\"\u001b[39m\u001b[39m\"\u001b[39m\n\u001b[0;32m     <a href='vscode-notebook-cell:/c%3A/Users/MY%20PC/Desktop/pyinternpe/Oop%27s%20concepts/circle.ipynb#W0sZmlsZQ%3D%3D?line=9'>10</a>\u001b[0m   filled \u001b[39m=\u001b[39m \u001b[39m\"\u001b[39m\u001b[39mFalse\u001b[39m\u001b[39m\"\u001b[39m\n",
      "\u001b[1;31mNameError\u001b[0m: name 'coords' is not defined"
     ]
    }
   ],
   "source": [
    "class Coords():\n",
    "  x = 0\n",
    "  y = 0\n",
    "\n",
    "\n",
    "class Circle():\n",
    "  radius = 0.0\n",
    "  coords = coords()\n",
    "  color = \"\"\n",
    "  filled = \"False\"\n",
    "  positions = []\n"
   ]
  },
  {
   "cell_type": "code",
   "execution_count": null,
   "metadata": {},
   "outputs": [],
   "source": []
  }
 ],
 "metadata": {
  "kernelspec": {
   "display_name": "base",
   "language": "python",
   "name": "python3"
  },
  "language_info": {
   "codemirror_mode": {
    "name": "ipython",
    "version": 3
   },
   "file_extension": ".py",
   "mimetype": "text/x-python",
   "name": "python",
   "nbconvert_exporter": "python",
   "pygments_lexer": "ipython3",
   "version": "3.9.12"
  },
  "orig_nbformat": 4,
  "vscode": {
   "interpreter": {
    "hash": "19d1d53a962d236aa061289c2ac16dc8e6d9648c89fe79f459ae9a3493bc67b4"
   }
  }
 },
 "nbformat": 4,
 "nbformat_minor": 2
}
