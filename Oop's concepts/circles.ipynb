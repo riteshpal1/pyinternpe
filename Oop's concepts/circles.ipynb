{
 "cells": [
  {
   "cell_type": "code",
   "execution_count": 1,
   "metadata": {},
   "outputs": [
    {
     "name": "stdout",
     "output_type": "stream",
     "text": [
      "58\n"
     ]
    }
   ],
   "source": [
    "class Circle():\n",
    "  radius = 0\n",
    "  x = 0\n",
    "  y = 0\n",
    "  color = \"\"\n",
    "  filled = \"False\"\n",
    "\n",
    "\n",
    "circles = []\n",
    "\n",
    "for x in range(0,10):\n",
    "  c = Circle()\n",
    "  c.radius = int(input(\"Enter the circle radius: \"))\n",
    "  circles.append(c)\n",
    "\n",
    "\n",
    "print(circles[6].radius)"
   ]
  },
  {
   "cell_type": "code",
   "execution_count": null,
   "metadata": {},
   "outputs": [],
   "source": []
  }
 ],
 "metadata": {
  "kernelspec": {
   "display_name": "base",
   "language": "python",
   "name": "python3"
  },
  "language_info": {
   "codemirror_mode": {
    "name": "ipython",
    "version": 3
   },
   "file_extension": ".py",
   "mimetype": "text/x-python",
   "name": "python",
   "nbconvert_exporter": "python",
   "pygments_lexer": "ipython3",
   "version": "3.9.12"
  },
  "orig_nbformat": 4,
  "vscode": {
   "interpreter": {
    "hash": "19d1d53a962d236aa061289c2ac16dc8e6d9648c89fe79f459ae9a3493bc67b4"
   }
  }
 },
 "nbformat": 4,
 "nbformat_minor": 2
}
