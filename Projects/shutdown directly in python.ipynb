{
 "cells": [
  {
   "cell_type": "code",
   "execution_count": 1,
   "metadata": {},
   "outputs": [],
   "source": [
    "from tkinter import *\n",
    "import os\n",
    "\n",
    "def restart():\n",
    "\tos.system(\"shutdown /r /t 1\")\n",
    "\n",
    "def restart_Time():\n",
    "\tos.system(\"shutdown /r /t 20\")\n",
    "def log_Out():\n",
    "\tos.system(\"shutdown -1\")\n",
    "\n",
    "def shutdown():\n",
    "\tos.system(\"shutdown /r /t 1\")\n",
    "\n",
    "\n",
    "st=Tk()     #st is the object of TK class \n",
    "st.title(\"ShutDown App\")\n",
    "st.geometry(\"500x500\")\n",
    "st.config(bg=\"Blue\")     # for changing te interface color\n",
    "\n",
    "r_button=Button(st,text=\"Restart\",font=(\"Time New Roman\",20,\"bold\"),\n",
    "\trelief=RAISED,cursor=\"plus\",command=restart)\n",
    "r_button.place(x=150,y=60,height=50,width=200)\n",
    "\n",
    "rt_button=Button(st,text=\"Restart Time\",font=(\"Time New Roman\",20,\"bold\"),\n",
    "\trelief=RAISED,cursor=\"plus\",command=restart_Time)\n",
    "rt_button.place(x=150,y=170,height=50,width=200)\n",
    "\n",
    "lg_button=Button(st,text=\"Log-Out\",font=(\"Time New Roman\",20,\"bold\"),\n",
    "\trelief=RAISED,cursor=\"plus\",command=log_Out)\n",
    "lg_button.place(x=150,y=270,height=50,width=200)\n",
    "\n",
    "sd_button=Button(st,text=\"Shutdown\",font=(\"Time New Roman\",20,\"bold\"),\n",
    "\trelief=RAISED,cursor=\"plus\",command=shutdown)\n",
    "sd_button.place(x=150,y=370,height=50,width=200)\n",
    "\n",
    "\n",
    "\n",
    "\n",
    "\n",
    "\n",
    "\n",
    "\n",
    "\n",
    "\n",
    "\n",
    "\n",
    "st.mainloop()  #for graphical interface showing we use loop"
   ]
  },
  {
   "cell_type": "code",
   "execution_count": null,
   "metadata": {},
   "outputs": [],
   "source": []
  }
 ],
 "metadata": {
  "kernelspec": {
   "display_name": "base",
   "language": "python",
   "name": "python3"
  },
  "language_info": {
   "codemirror_mode": {
    "name": "ipython",
    "version": 3
   },
   "file_extension": ".py",
   "mimetype": "text/x-python",
   "name": "python",
   "nbconvert_exporter": "python",
   "pygments_lexer": "ipython3",
   "version": "3.9.12"
  },
  "orig_nbformat": 4,
  "vscode": {
   "interpreter": {
    "hash": "19d1d53a962d236aa061289c2ac16dc8e6d9648c89fe79f459ae9a3493bc67b4"
   }
  }
 },
 "nbformat": 4,
 "nbformat_minor": 2
}
